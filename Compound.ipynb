{
 "cells": [
  {
   "cell_type": "code",
   "execution_count": 4,
   "source": [
    "import pandas as pd\r\n",
    "import numpy as np \r\n",
    "import math\r\n",
    "import matplotlib as plt"
   ],
   "outputs": [],
   "metadata": {}
  },
  {
   "cell_type": "markdown",
   "source": [
    "# Simple compound interest"
   ],
   "metadata": {}
  },
  {
   "cell_type": "markdown",
   "source": [
    "## Formula\r\n",
    "![](https://encrypted-tbn0.gstatic.com/images?q=tbn:ANd9GcTR92QD5hwMuatbFHF7CU_si9OcvkEgAeR9gA&usqp=CAU)"
   ],
   "metadata": {}
  },
  {
   "cell_type": "code",
   "execution_count": 9,
   "source": [
    "def Simple(P,r,n,t):\r\n",
    "    \"\"\" A = Final \r\n",
    "        P =\tinitial principal balance\r\n",
    "        r = interest rate  \r\n",
    "        n = number of times interest per time period \r\n",
    "        t = number of time periods elapsed \r\n",
    "    \"\"\"\r\n",
    "    A = P*((1 + (r / n))**(n * t))\r\n",
    "    \r\n",
    "\r\n",
    "Final(30000,.10,1,10)\r\n",
    "Final(0,.10,1,10)"
   ],
   "outputs": [
    {
     "output_type": "execute_result",
     "data": {
      "text/plain": [
       "77812.27380300008"
      ]
     },
     "metadata": {},
     "execution_count": 9
    }
   ],
   "metadata": {}
  },
  {
   "cell_type": "markdown",
   "source": [
    "# Compound interest with additional contributions "
   ],
   "metadata": {}
  },
  {
   "cell_type": "markdown",
   "source": [
    "## Formula\r\n",
    "![](https://i.imgur.com/09bn8mN.png)"
   ],
   "metadata": {}
  },
  {
   "cell_type": "code",
   "execution_count": 149,
   "source": [
    "def Additoinal_CON_Final(P,r,c,t):\r\n",
    "    \"\"\" A = Final \r\n",
    "        P =\tinitial principal balance\r\n",
    "        r = interest rate  \r\n",
    "        n = number of times interest per time period \r\n",
    "        t = number of time periods elapsed \r\n",
    "    \"\"\"\r\n",
    "    A = P*(1 + r)**t + c*(((1+r)**(t)-1)/r)\r\n",
    "    print('Future Value',A,'Total Contibution:',c*t)\r\n",
    "    print('Amount made(Future Value - Total Contibution):',A-c*t)\r\n"
   ],
   "outputs": [
    {
     "output_type": "stream",
     "name": "stdout",
     "text": [
      "Future Value 48030.73002000007 Total Contibution: 33600\n",
      "Amount made(Future Value - Total Contibution): 14430.730020000068\n"
     ]
    }
   ],
   "metadata": {}
  },
  {
   "cell_type": "code",
   "execution_count": 155,
   "source": [
    "#===========\r\n",
    "#Option A pay minimum of 400 and invest 350 per month for 8 years  \r\n",
    "P = 0    \r\n",
    "r = .1\r\n",
    "c = 350 * 12\r\n",
    "t = 8\r\n",
    "Additoinal_CON_Final(P,r,c,t)"
   ],
   "outputs": [
    {
     "output_type": "stream",
     "name": "stdout",
     "text": [
      "Future Value 48030.73002000007 Total Contibution: 33600\n",
      "Amount made(Future Value - Total Contibution): 14430.730020000068\n"
     ]
    }
   ],
   "metadata": {}
  },
  {
   "cell_type": "code",
   "execution_count": 150,
   "source": [
    "#Option B pay 750 per month and then invest 750 for 4 years \r\n",
    "c = 750 * 12\r\n",
    "t = 4\r\n",
    "Additoinal_CON_Final(P,r,c,t)"
   ],
   "outputs": [
    {
     "output_type": "stream",
     "name": "stdout",
     "text": [
      "Future Value 41769.00000000003 Total Contibution: 36000\n",
      "Amount made(Future Value - Total Contibution): 5769.000000000029\n"
     ]
    }
   ],
   "metadata": {}
  },
  {
   "cell_type": "markdown",
   "source": [
    "## Graph"
   ],
   "metadata": {}
  },
  {
   "cell_type": "code",
   "execution_count": 10,
   "source": [
    "def Additoinal_CON(P,r,c,t):\r\n",
    "    \"\"\" A = Final \r\n",
    "        P =\tinitial principal balance\r\n",
    "        r = interest rate  \r\n",
    "        n = number of times interest per time period \r\n",
    "        t = number of time periods elapsed \r\n",
    "        c = additional contribution\r\n",
    "    \"\"\"\r\n",
    "    save = []\r\n",
    "    con = []\r\n",
    "   \r\n",
    "    for t in range(0,time):\r\n",
    "        con.append(P+c*t)\r\n",
    "        A = P*(1 + r)**t + c*(((1+r)**(t)-1)/r)\r\n",
    "        save.append(A)\r\n",
    "\r\n",
    "    df = pd.DataFrame()\r\n",
    "    df.index = df.index.rename('Time (Years)')\r\n",
    "    #df['Time (Years)'] = [x for x in range(0,time)]\r\n",
    "    df[f'Future Value ({r * 100 }%)'] = save\r\n",
    "    #df[f'Future Value ({r * 100 }%)'] = df[f'Future Value ({r * 100 }%)'].astype('int64') #Converts Scientific notion into \r\n",
    "    df['Total Contributions'] = con \r\n",
    "    \r\n",
    "    display(df.astype('int64'))\r\n",
    "    display(df[f'Future Value ({r * 100 }%)'].astype('int64').plot())\r\n",
    "\r\n",
    "#==============================================================\r\n",
    "c = 36000\r\n",
    "P = 30000\r\n",
    "r = .10\r\n",
    "n = 1\r\n",
    "t = 15\r\n",
    "Additoinal_CON(P,r,c,t)"
   ],
   "outputs": [
    {
     "output_type": "display_data",
     "data": {
      "text/plain": [
       "              Future Value (10.0%)  Total Contributions\n",
       "Time (Years)                                           \n",
       "0                            30000                30000\n",
       "1                            69000                66000\n",
       "2                           111900               102000\n",
       "3                           159090               138000\n",
       "4                           210999               174000\n",
       "5                           268098               210000\n",
       "6                           330908               246000\n",
       "7                           399999               282000\n",
       "8                           475999               318000\n",
       "9                           559599               354000\n",
       "10                          651559               390000\n",
       "11                          752715               426000\n",
       "12                          863987               462000\n",
       "13                          986385               498000\n",
       "14                         1121024               534000"
      ],
      "text/html": [
       "<div>\n",
       "<style scoped>\n",
       "    .dataframe tbody tr th:only-of-type {\n",
       "        vertical-align: middle;\n",
       "    }\n",
       "\n",
       "    .dataframe tbody tr th {\n",
       "        vertical-align: top;\n",
       "    }\n",
       "\n",
       "    .dataframe thead th {\n",
       "        text-align: right;\n",
       "    }\n",
       "</style>\n",
       "<table border=\"1\" class=\"dataframe\">\n",
       "  <thead>\n",
       "    <tr style=\"text-align: right;\">\n",
       "      <th></th>\n",
       "      <th>Future Value (10.0%)</th>\n",
       "      <th>Total Contributions</th>\n",
       "    </tr>\n",
       "    <tr>\n",
       "      <th>Time (Years)</th>\n",
       "      <th></th>\n",
       "      <th></th>\n",
       "    </tr>\n",
       "  </thead>\n",
       "  <tbody>\n",
       "    <tr>\n",
       "      <th>0</th>\n",
       "      <td>30000</td>\n",
       "      <td>30000</td>\n",
       "    </tr>\n",
       "    <tr>\n",
       "      <th>1</th>\n",
       "      <td>69000</td>\n",
       "      <td>66000</td>\n",
       "    </tr>\n",
       "    <tr>\n",
       "      <th>2</th>\n",
       "      <td>111900</td>\n",
       "      <td>102000</td>\n",
       "    </tr>\n",
       "    <tr>\n",
       "      <th>3</th>\n",
       "      <td>159090</td>\n",
       "      <td>138000</td>\n",
       "    </tr>\n",
       "    <tr>\n",
       "      <th>4</th>\n",
       "      <td>210999</td>\n",
       "      <td>174000</td>\n",
       "    </tr>\n",
       "    <tr>\n",
       "      <th>5</th>\n",
       "      <td>268098</td>\n",
       "      <td>210000</td>\n",
       "    </tr>\n",
       "    <tr>\n",
       "      <th>6</th>\n",
       "      <td>330908</td>\n",
       "      <td>246000</td>\n",
       "    </tr>\n",
       "    <tr>\n",
       "      <th>7</th>\n",
       "      <td>399999</td>\n",
       "      <td>282000</td>\n",
       "    </tr>\n",
       "    <tr>\n",
       "      <th>8</th>\n",
       "      <td>475999</td>\n",
       "      <td>318000</td>\n",
       "    </tr>\n",
       "    <tr>\n",
       "      <th>9</th>\n",
       "      <td>559599</td>\n",
       "      <td>354000</td>\n",
       "    </tr>\n",
       "    <tr>\n",
       "      <th>10</th>\n",
       "      <td>651559</td>\n",
       "      <td>390000</td>\n",
       "    </tr>\n",
       "    <tr>\n",
       "      <th>11</th>\n",
       "      <td>752715</td>\n",
       "      <td>426000</td>\n",
       "    </tr>\n",
       "    <tr>\n",
       "      <th>12</th>\n",
       "      <td>863987</td>\n",
       "      <td>462000</td>\n",
       "    </tr>\n",
       "    <tr>\n",
       "      <th>13</th>\n",
       "      <td>986385</td>\n",
       "      <td>498000</td>\n",
       "    </tr>\n",
       "    <tr>\n",
       "      <th>14</th>\n",
       "      <td>1121024</td>\n",
       "      <td>534000</td>\n",
       "    </tr>\n",
       "  </tbody>\n",
       "</table>\n",
       "</div>"
      ]
     },
     "metadata": {}
    },
    {
     "output_type": "display_data",
     "data": {
      "text/plain": [
       "<AxesSubplot:xlabel='Time (Years)'>"
      ]
     },
     "metadata": {}
    },
    {
     "output_type": "display_data",
     "data": {
      "text/plain": [
       "<Figure size 432x288 with 1 Axes>"
      ],
      "image/png": "[encoded data removed]"
     },
     "metadata": {
      "needs_background": "light"
     }
    }
   ],
   "metadata": {}
  },
  {
   "cell_type": "markdown",
   "source": [
    "# Compound interest with additional contributions that increase over the years "
   ],
   "metadata": {}
  },
  {
   "cell_type": "code",
   "execution_count": 13,
   "source": [
    "def Add_Con_Pay_Raise(P,r,c,t):\r\n",
    "    \"\"\" A = Final \r\n",
    "        P =\tinitial principal balance\r\n",
    "        r = interest rate  \r\n",
    "        n = number of times interest per time period \r\n",
    "        t = number of time periods elapsed \r\n",
    "        c = additional contribution\r\n",
    "    \"\"\"\r\n",
    "    save = []\r\n",
    "    con = []\r\n",
    "    Con1 = []\r\n",
    "    for t in range(0,time):\r\n",
    "        con.append(P+c*t)\r\n",
    "        A = P*(1 + r)**t + c*(((1+r)**(t)-1)/r)\r\n",
    "        time2 = t + 1\r\n",
    "        Con1.append(c)\r\n",
    "        if time2 % 3 == 0:\r\n",
    "            c = c * 1.15\r\n",
    "        else:\r\n",
    "            c = c * 1.05\r\n",
    "        save.append(A)\r\n",
    "\r\n",
    "    df = pd.DataFrame()\r\n",
    "    df.index = df.index.rename('Time (Years)')\r\n",
    "    #df['Time (Years)'] = [x for x in range(0,time)]\r\n",
    "    df[f'Future Value ({r * 100 }%)'] = save\r\n",
    "    df['Total Contributions'] = con \r\n",
    "    df['Contributions'] = Con1\r\n",
    "    df['Contributions Change'] = df['Contributions'].pct_change()\r\n",
    "    #print(type(df['Contributions Change']))\r\n",
    "    #df['Contriution increase'] = df['Pay increase'] - df['Pay increase'].shift(1)\r\n",
    "    df['Dividends (2%)'] = df[f'Future Value ({r * 100 }%)'] * .02\r\n",
    "    #df['New'] = df['Contributions Change'].apply(lambda x: 'Promotion' if float(x) == '0.05' else 'Yearly Raise1' )\r\n",
    "    #df['New 2'] = np.where(df['Contributions Change'] == .05,'Yes','No')\r\n",
    "    display(df.astype('int64',errors = 'ignore'))\r\n",
    "    return(df[f'Future Value ({r * 100 }%)'].plot())\r\n",
    "\r\n",
    "#==============================================================\r\n",
    "c = 36000\r\n",
    "P = 30000\r\n",
    "r = .10\r\n",
    "n = 1\r\n",
    "time = 15\r\n",
    "Add_Con_Pay_Raise(P,r,c,t)"
   ],
   "outputs": [
    {
     "output_type": "display_data",
     "data": {
      "text/plain": [
       "              Future Value (10.0%)  Total Contributions  Contributions  \\\n",
       "Time (Years)                                                             \n",
       "0                            30000                30000          36000   \n",
       "1                            70800                67800          37800   \n",
       "2                           119649               109380          39690   \n",
       "3                           191009               166930          45643   \n",
       "4                           266346               221702          47925   \n",
       "5                           355535               281609          50321   \n",
       "6                           499651               377221          57870   \n",
       "7                           634937               455346          60763   \n",
       "8                           793939               540415          63801   \n",
       "9                          1067095               690350          73372   \n",
       "10                         1305645               800408          77040   \n",
       "11                         1584633               919821          80892   \n",
       "12                         2083465              1146322          93026   \n",
       "13                         2498901              1299816          97678   \n",
       "14                         2983097              1465869         102562   \n",
       "\n",
       "              Contributions Change  Dividends (2%)  \n",
       "Time (Years)                                        \n",
       "0                              NaN             600  \n",
       "1                             0.05            1416  \n",
       "2                             0.05            2392  \n",
       "3                             0.15            3820  \n",
       "4                             0.05            5326  \n",
       "5                             0.05            7110  \n",
       "6                             0.15            9993  \n",
       "7                             0.05           12698  \n",
       "8                             0.05           15878  \n",
       "9                             0.15           21341  \n",
       "10                            0.05           26112  \n",
       "11                            0.05           31692  \n",
       "12                            0.15           41669  \n",
       "13                            0.05           49978  \n",
       "14                            0.05           59661  "
      ],
      "text/html": [
       "<div>\n",
       "<style scoped>\n",
       "    .dataframe tbody tr th:only-of-type {\n",
       "        vertical-align: middle;\n",
       "    }\n",
       "\n",
       "    .dataframe tbody tr th {\n",
       "        vertical-align: top;\n",
       "    }\n",
       "\n",
       "    .dataframe thead th {\n",
       "        text-align: right;\n",
       "    }\n",
       "</style>\n",
       "<table border=\"1\" class=\"dataframe\">\n",
       "  <thead>\n",
       "    <tr style=\"text-align: right;\">\n",
       "      <th></th>\n",
       "      <th>Future Value (10.0%)</th>\n",
       "      <th>Total Contributions</th>\n",
       "      <th>Contributions</th>\n",
       "      <th>Contributions Change</th>\n",
       "      <th>Dividends (2%)</th>\n",
       "    </tr>\n",
       "    <tr>\n",
       "      <th>Time (Years)</th>\n",
       "      <th></th>\n",
       "      <th></th>\n",
       "      <th></th>\n",
       "      <th></th>\n",
       "      <th></th>\n",
       "    </tr>\n",
       "  </thead>\n",
       "  <tbody>\n",
       "    <tr>\n",
       "      <th>0</th>\n",
       "      <td>30000</td>\n",
       "      <td>30000</td>\n",
       "      <td>36000</td>\n",
       "      <td>NaN</td>\n",
       "      <td>600</td>\n",
       "    </tr>\n",
       "    <tr>\n",
       "      <th>1</th>\n",
       "      <td>70800</td>\n",
       "      <td>67800</td>\n",
       "      <td>37800</td>\n",
       "      <td>0.05</td>\n",
       "      <td>1416</td>\n",
       "    </tr>\n",
       "    <tr>\n",
       "      <th>2</th>\n",
       "      <td>119649</td>\n",
       "      <td>109380</td>\n",
       "      <td>39690</td>\n",
       "      <td>0.05</td>\n",
       "      <td>2392</td>\n",
       "    </tr>\n",
       "    <tr>\n",
       "      <th>3</th>\n",
       "      <td>191009</td>\n",
       "      <td>166930</td>\n",
       "      <td>45643</td>\n",
       "      <td>0.15</td>\n",
       "      <td>3820</td>\n",
       "    </tr>\n",
       "    <tr>\n",
       "      <th>4</th>\n",
       "      <td>266346</td>\n",
       "      <td>221702</td>\n",
       "      <td>47925</td>\n",
       "      <td>0.05</td>\n",
       "      <td>5326</td>\n",
       "    </tr>\n",
       "    <tr>\n",
       "      <th>5</th>\n",
       "      <td>355535</td>\n",
       "      <td>281609</td>\n",
       "      <td>50321</td>\n",
       "      <td>0.05</td>\n",
       "      <td>7110</td>\n",
       "    </tr>\n",
       "    <tr>\n",
       "      <th>6</th>\n",
       "      <td>499651</td>\n",
       "      <td>377221</td>\n",
       "      <td>57870</td>\n",
       "      <td>0.15</td>\n",
       "      <td>9993</td>\n",
       "    </tr>\n",
       "    <tr>\n",
       "      <th>7</th>\n",
       "      <td>634937</td>\n",
       "      <td>455346</td>\n",
       "      <td>60763</td>\n",
       "      <td>0.05</td>\n",
       "      <td>12698</td>\n",
       "    </tr>\n",
       "    <tr>\n",
       "      <th>8</th>\n",
       "      <td>793939</td>\n",
       "      <td>540415</td>\n",
       "      <td>63801</td>\n",
       "      <td>0.05</td>\n",
       "      <td>15878</td>\n",
       "    </tr>\n",
       "    <tr>\n",
       "      <th>9</th>\n",
       "      <td>1067095</td>\n",
       "      <td>690350</td>\n",
       "      <td>73372</td>\n",
       "      <td>0.15</td>\n",
       "      <td>21341</td>\n",
       "    </tr>\n",
       "    <tr>\n",
       "      <th>10</th>\n",
       "      <td>1305645</td>\n",
       "      <td>800408</td>\n",
       "      <td>77040</td>\n",
       "      <td>0.05</td>\n",
       "      <td>26112</td>\n",
       "    </tr>\n",
       "    <tr>\n",
       "      <th>11</th>\n",
       "      <td>1584633</td>\n",
       "      <td>919821</td>\n",
       "      <td>80892</td>\n",
       "      <td>0.05</td>\n",
       "      <td>31692</td>\n",
       "    </tr>\n",
       "    <tr>\n",
       "      <th>12</th>\n",
       "      <td>2083465</td>\n",
       "      <td>1146322</td>\n",
       "      <td>93026</td>\n",
       "      <td>0.15</td>\n",
       "      <td>41669</td>\n",
       "    </tr>\n",
       "    <tr>\n",
       "      <th>13</th>\n",
       "      <td>2498901</td>\n",
       "      <td>1299816</td>\n",
       "      <td>97678</td>\n",
       "      <td>0.05</td>\n",
       "      <td>49978</td>\n",
       "    </tr>\n",
       "    <tr>\n",
       "      <th>14</th>\n",
       "      <td>2983097</td>\n",
       "      <td>1465869</td>\n",
       "      <td>102562</td>\n",
       "      <td>0.05</td>\n",
       "      <td>59661</td>\n",
       "    </tr>\n",
       "  </tbody>\n",
       "</table>\n",
       "</div>"
      ]
     },
     "metadata": {}
    },
    {
     "output_type": "execute_result",
     "data": {
      "text/plain": [
       "<AxesSubplot:xlabel='Time (Years)'>"
      ]
     },
     "metadata": {},
     "execution_count": 13
    },
    {
     "output_type": "display_data",
     "data": {
      "text/plain": [
       "<Figure size 432x288 with 1 Axes>"
      ],
      "image/png": "[encoded data removed]"
     },
     "metadata": {
      "needs_background": "light"
     }
    }
   ],
   "metadata": {}
  },
  {
   "cell_type": "markdown",
   "source": [
    "# Amortization "
   ],
   "metadata": {}
  }
 ],
 "metadata": {
  "orig_nbformat": 4,
  "language_info": {
   "name": "python",
   "version": "3.9.6",
   "mimetype": "text/x-python",
   "codemirror_mode": {
    "name": "ipython",
    "version": 3
   },
   "pygments_lexer": "ipython3",
   "nbconvert_exporter": "python",
   "file_extension": ".py"
  },
  "kernelspec": {
   "name": "python3",
   "display_name": "Python 3.9.6 64-bit"
  },
  "interpreter": {
   "hash": "8c99749db359772d33b42da08cf06ce6dc034e41d2d2f0a926d6c08adea6b624"
  }
 },
 "nbformat": 4,
 "nbformat_minor": 2
}